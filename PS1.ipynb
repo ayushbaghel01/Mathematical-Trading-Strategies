{
 "cells": [
  {
   "cell_type": "code",
   "execution_count": 1,
   "metadata": {},
   "outputs": [],
   "source": [
    "import numpy as np\n",
    "import pandas as pd\n",
    "import yfinance as yf"
   ]
  },
  {
   "attachments": {},
   "cell_type": "markdown",
   "metadata": {},
   "source": [
    "Importing yfinance data "
   ]
  },
  {
   "cell_type": "code",
   "execution_count": 2,
   "metadata": {},
   "outputs": [
    {
     "name": "stdout",
     "output_type": "stream",
     "text": [
      "[*********************100%***********************]  1 of 1 completed\n"
     ]
    },
    {
     "data": {
      "text/html": [
       "<div>\n",
       "<style scoped>\n",
       "    .dataframe tbody tr th:only-of-type {\n",
       "        vertical-align: middle;\n",
       "    }\n",
       "\n",
       "    .dataframe tbody tr th {\n",
       "        vertical-align: top;\n",
       "    }\n",
       "\n",
       "    .dataframe thead th {\n",
       "        text-align: right;\n",
       "    }\n",
       "</style>\n",
       "<table border=\"1\" class=\"dataframe\">\n",
       "  <thead>\n",
       "    <tr style=\"text-align: right;\">\n",
       "      <th></th>\n",
       "      <th>Open</th>\n",
       "      <th>High</th>\n",
       "      <th>Low</th>\n",
       "      <th>Close</th>\n",
       "      <th>Adj Close</th>\n",
       "      <th>Volume</th>\n",
       "    </tr>\n",
       "    <tr>\n",
       "      <th>Date</th>\n",
       "      <th></th>\n",
       "      <th></th>\n",
       "      <th></th>\n",
       "      <th></th>\n",
       "      <th></th>\n",
       "      <th></th>\n",
       "    </tr>\n",
       "  </thead>\n",
       "  <tbody>\n",
       "    <tr>\n",
       "      <th>2010-01-04</th>\n",
       "      <td>15.615220</td>\n",
       "      <td>15.678981</td>\n",
       "      <td>15.547723</td>\n",
       "      <td>15.610239</td>\n",
       "      <td>15.610239</td>\n",
       "      <td>78541293</td>\n",
       "    </tr>\n",
       "    <tr>\n",
       "      <th>2010-01-05</th>\n",
       "      <td>15.620949</td>\n",
       "      <td>15.637387</td>\n",
       "      <td>15.480475</td>\n",
       "      <td>15.541497</td>\n",
       "      <td>15.541497</td>\n",
       "      <td>120638494</td>\n",
       "    </tr>\n",
       "    <tr>\n",
       "      <th>2010-01-06</th>\n",
       "      <td>15.588072</td>\n",
       "      <td>15.588072</td>\n",
       "      <td>15.102393</td>\n",
       "      <td>15.149715</td>\n",
       "      <td>15.149715</td>\n",
       "      <td>159744526</td>\n",
       "    </tr>\n",
       "    <tr>\n",
       "      <th>2010-01-07</th>\n",
       "      <td>15.178109</td>\n",
       "      <td>15.193053</td>\n",
       "      <td>14.760922</td>\n",
       "      <td>14.797037</td>\n",
       "      <td>14.797037</td>\n",
       "      <td>257533695</td>\n",
       "    </tr>\n",
       "    <tr>\n",
       "      <th>2010-01-08</th>\n",
       "      <td>14.744733</td>\n",
       "      <td>15.024933</td>\n",
       "      <td>14.672753</td>\n",
       "      <td>14.994298</td>\n",
       "      <td>14.994298</td>\n",
       "      <td>189680313</td>\n",
       "    </tr>\n",
       "    <tr>\n",
       "      <th>...</th>\n",
       "      <td>...</td>\n",
       "      <td>...</td>\n",
       "      <td>...</td>\n",
       "      <td>...</td>\n",
       "      <td>...</td>\n",
       "      <td>...</td>\n",
       "    </tr>\n",
       "    <tr>\n",
       "      <th>2023-04-24</th>\n",
       "      <td>106.050003</td>\n",
       "      <td>107.320000</td>\n",
       "      <td>105.360001</td>\n",
       "      <td>106.779999</td>\n",
       "      <td>106.779999</td>\n",
       "      <td>21410900</td>\n",
       "    </tr>\n",
       "    <tr>\n",
       "      <th>2023-04-25</th>\n",
       "      <td>106.610001</td>\n",
       "      <td>107.440002</td>\n",
       "      <td>104.559998</td>\n",
       "      <td>104.610001</td>\n",
       "      <td>104.610001</td>\n",
       "      <td>31408100</td>\n",
       "    </tr>\n",
       "    <tr>\n",
       "      <th>2023-04-26</th>\n",
       "      <td>105.559998</td>\n",
       "      <td>107.019997</td>\n",
       "      <td>103.269997</td>\n",
       "      <td>104.449997</td>\n",
       "      <td>104.449997</td>\n",
       "      <td>37068200</td>\n",
       "    </tr>\n",
       "    <tr>\n",
       "      <th>2023-04-27</th>\n",
       "      <td>105.230003</td>\n",
       "      <td>109.150002</td>\n",
       "      <td>104.419998</td>\n",
       "      <td>108.370003</td>\n",
       "      <td>108.370003</td>\n",
       "      <td>38235200</td>\n",
       "    </tr>\n",
       "    <tr>\n",
       "      <th>2023-04-28</th>\n",
       "      <td>107.800003</td>\n",
       "      <td>108.290001</td>\n",
       "      <td>106.040001</td>\n",
       "      <td>108.220001</td>\n",
       "      <td>108.220001</td>\n",
       "      <td>23957900</td>\n",
       "    </tr>\n",
       "  </tbody>\n",
       "</table>\n",
       "<p>3353 rows × 6 columns</p>\n",
       "</div>"
      ],
      "text/plain": [
       "                  Open        High         Low       Close   Adj Close   \n",
       "Date                                                                     \n",
       "2010-01-04   15.615220   15.678981   15.547723   15.610239   15.610239  \\\n",
       "2010-01-05   15.620949   15.637387   15.480475   15.541497   15.541497   \n",
       "2010-01-06   15.588072   15.588072   15.102393   15.149715   15.149715   \n",
       "2010-01-07   15.178109   15.193053   14.760922   14.797037   14.797037   \n",
       "2010-01-08   14.744733   15.024933   14.672753   14.994298   14.994298   \n",
       "...                ...         ...         ...         ...         ...   \n",
       "2023-04-24  106.050003  107.320000  105.360001  106.779999  106.779999   \n",
       "2023-04-25  106.610001  107.440002  104.559998  104.610001  104.610001   \n",
       "2023-04-26  105.559998  107.019997  103.269997  104.449997  104.449997   \n",
       "2023-04-27  105.230003  109.150002  104.419998  108.370003  108.370003   \n",
       "2023-04-28  107.800003  108.290001  106.040001  108.220001  108.220001   \n",
       "\n",
       "               Volume  \n",
       "Date                   \n",
       "2010-01-04   78541293  \n",
       "2010-01-05  120638494  \n",
       "2010-01-06  159744526  \n",
       "2010-01-07  257533695  \n",
       "2010-01-08  189680313  \n",
       "...               ...  \n",
       "2023-04-24   21410900  \n",
       "2023-04-25   31408100  \n",
       "2023-04-26   37068200  \n",
       "2023-04-27   38235200  \n",
       "2023-04-28   23957900  \n",
       "\n",
       "[3353 rows x 6 columns]"
      ]
     },
     "execution_count": 2,
     "metadata": {},
     "output_type": "execute_result"
    }
   ],
   "source": [
    "\n",
    "index = yf.download( \"GOOG\", start = \"2010-01-01\",\n",
    "                           end =\"2023-05-01\")\n",
    "index"
   ]
  },
  {
   "attachments": {},
   "cell_type": "markdown",
   "metadata": {},
   "source": [
    "Calculating Volatility"
   ]
  },
  {
   "cell_type": "code",
   "execution_count": 3,
   "metadata": {},
   "outputs": [
    {
     "data": {
      "text/plain": [
       "0.20639621321358703"
      ]
     },
     "execution_count": 3,
     "metadata": {},
     "output_type": "execute_result"
    }
   ],
   "source": [
    "index['daily_returns'] =(index['Close']-index['Open'])/index['Open']\n",
    "volatility= index['daily_returns'].std() *np.sqrt(252)\n",
    "volatility"
   ]
  },
  {
   "attachments": {},
   "cell_type": "markdown",
   "metadata": {},
   "source": [
    "Calculating Cumulative returns"
   ]
  },
  {
   "cell_type": "code",
   "execution_count": 4,
   "metadata": {},
   "outputs": [
    {
     "data": {
      "text/plain": [
       "0.5089084663886971"
      ]
     },
     "execution_count": 4,
     "metadata": {},
     "output_type": "execute_result"
    }
   ],
   "source": [
    "cumulative_returns= ( index['Close']/index['Open']).product() -1\n",
    "cumulative_returns"
   ]
  },
  {
   "attachments": {},
   "cell_type": "markdown",
   "metadata": {},
   "source": [
    "Sharpe Ratio"
   ]
  },
  {
   "cell_type": "code",
   "execution_count": 5,
   "metadata": {},
   "outputs": [
    {
     "data": {
      "text/plain": [
       "0.08363877809625908"
      ]
     },
     "execution_count": 5,
     "metadata": {},
     "output_type": "execute_result"
    }
   ],
   "source": [
    "daily_returns=index['daily_returns']\n",
    "annual_returns= daily_returns.mean()*252\n",
    "risk_free_rate = 0.035\n",
    "annual_std_dev = daily_returns.std()*np.sqrt(252)\n",
    "sharpe_ratio=(annual_returns-risk_free_rate) / annual_std_dev\n",
    "sharpe_ratio"
   ]
  },
  {
   "attachments": {},
   "cell_type": "markdown",
   "metadata": {},
   "source": [
    "Maxdrawdown"
   ]
  },
  {
   "cell_type": "code",
   "execution_count": 6,
   "metadata": {},
   "outputs": [
    {
     "data": {
      "text/plain": [
       "0.0"
      ]
     },
     "execution_count": 6,
     "metadata": {},
     "output_type": "execute_result"
    }
   ],
   "source": [
    "index['cumulative_rolling_max'] = (index['Close']/index['Open']).cumprod()-1\n",
    "drawdown = cumulative_returns - index['cumulative_rolling_max']\n",
    "MDD= np.min(drawdown)\n",
    "MDD"
   ]
  },
  {
   "attachments": {},
   "cell_type": "markdown",
   "metadata": {},
   "source": []
  },
  {
   "cell_type": "code",
   "execution_count": 7,
   "metadata": {},
   "outputs": [
    {
     "data": {
      "text/plain": [
       "0.5422541218325561"
      ]
     },
     "execution_count": 7,
     "metadata": {},
     "output_type": "execute_result"
    }
   ],
   "source": [
    "downside_return = np.where((index['daily_returns'])<0, index['daily_returns']-risk_free_rate, 0)\n",
    "downside_deviation = np.sqrt(np.mean(np.square(downside_return)))\n",
    "Sortino_ratio=(annual_returns-risk_free_rate)/downside_deviation\n",
    "Sortino_ratio\n"
   ]
  }
 ],
 "metadata": {
  "kernelspec": {
   "display_name": "Python 3",
   "language": "python",
   "name": "python3"
  },
  "language_info": {
   "codemirror_mode": {
    "name": "ipython",
    "version": 3
   },
   "file_extension": ".py",
   "mimetype": "text/x-python",
   "name": "python",
   "nbconvert_exporter": "python",
   "pygments_lexer": "ipython3",
   "version": "3.11.1"
  },
  "orig_nbformat": 4
 },
 "nbformat": 4,
 "nbformat_minor": 2
}
