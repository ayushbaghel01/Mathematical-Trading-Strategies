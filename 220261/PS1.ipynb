{
 "cells": [
  {
   "cell_type": "code",
   "execution_count": 1,
   "metadata": {},
   "outputs": [],
   "source": [
    "import numpy as np\n",
    "import pandas as pd\n",
    "import yfinance as yf"
   ]
  },
  {
   "attachments": {},
   "cell_type": "markdown",
   "metadata": {},
   "source": [
    "Importing yfinance data "
   ]
  },
  {
   "cell_type": "code",
   "execution_count": 2,
   "metadata": {},
   "outputs": [
    {
     "name": "stdout",
     "output_type": "stream",
     "text": [
      "[*********************100%***********************]  1 of 1 completed\n"
     ]
    },
    {
     "data": {
      "text/html": [
       "<div>\n",
       "<style scoped>\n",
       "    .dataframe tbody tr th:only-of-type {\n",
       "        vertical-align: middle;\n",
       "    }\n",
       "\n",
       "    .dataframe tbody tr th {\n",
       "        vertical-align: top;\n",
       "    }\n",
       "\n",
       "    .dataframe thead th {\n",
       "        text-align: right;\n",
       "    }\n",
       "</style>\n",
       "<table border=\"1\" class=\"dataframe\">\n",
       "  <thead>\n",
       "    <tr style=\"text-align: right;\">\n",
       "      <th></th>\n",
       "      <th>Open</th>\n",
       "      <th>High</th>\n",
       "      <th>Low</th>\n",
       "      <th>Close</th>\n",
       "      <th>Adj Close</th>\n",
       "      <th>Volume</th>\n",
       "    </tr>\n",
       "    <tr>\n",
       "      <th>Date</th>\n",
       "      <th></th>\n",
       "      <th></th>\n",
       "      <th></th>\n",
       "      <th></th>\n",
       "      <th></th>\n",
       "      <th></th>\n",
       "    </tr>\n",
       "  </thead>\n",
       "  <tbody>\n",
       "    <tr>\n",
       "      <th>2010-01-04</th>\n",
       "      <td>5200.899902</td>\n",
       "      <td>5238.450195</td>\n",
       "      <td>5167.100098</td>\n",
       "      <td>5232.200195</td>\n",
       "      <td>5232.200195</td>\n",
       "      <td>0</td>\n",
       "    </tr>\n",
       "    <tr>\n",
       "      <th>2010-01-05</th>\n",
       "      <td>5277.149902</td>\n",
       "      <td>5288.350098</td>\n",
       "      <td>5242.399902</td>\n",
       "      <td>5277.899902</td>\n",
       "      <td>5277.899902</td>\n",
       "      <td>0</td>\n",
       "    </tr>\n",
       "    <tr>\n",
       "      <th>2010-01-06</th>\n",
       "      <td>5278.149902</td>\n",
       "      <td>5310.850098</td>\n",
       "      <td>5260.049805</td>\n",
       "      <td>5281.799805</td>\n",
       "      <td>5281.799805</td>\n",
       "      <td>0</td>\n",
       "    </tr>\n",
       "    <tr>\n",
       "      <th>2010-01-07</th>\n",
       "      <td>5281.799805</td>\n",
       "      <td>5302.549805</td>\n",
       "      <td>5244.750000</td>\n",
       "      <td>5263.100098</td>\n",
       "      <td>5263.100098</td>\n",
       "      <td>0</td>\n",
       "    </tr>\n",
       "    <tr>\n",
       "      <th>2010-01-08</th>\n",
       "      <td>5264.250000</td>\n",
       "      <td>5276.750000</td>\n",
       "      <td>5234.700195</td>\n",
       "      <td>5244.750000</td>\n",
       "      <td>5244.750000</td>\n",
       "      <td>0</td>\n",
       "    </tr>\n",
       "    <tr>\n",
       "      <th>...</th>\n",
       "      <td>...</td>\n",
       "      <td>...</td>\n",
       "      <td>...</td>\n",
       "      <td>...</td>\n",
       "      <td>...</td>\n",
       "      <td>...</td>\n",
       "    </tr>\n",
       "    <tr>\n",
       "      <th>2023-04-24</th>\n",
       "      <td>17707.550781</td>\n",
       "      <td>17754.500000</td>\n",
       "      <td>17612.500000</td>\n",
       "      <td>17743.400391</td>\n",
       "      <td>17743.400391</td>\n",
       "      <td>255700</td>\n",
       "    </tr>\n",
       "    <tr>\n",
       "      <th>2023-04-25</th>\n",
       "      <td>17761.550781</td>\n",
       "      <td>17807.449219</td>\n",
       "      <td>17716.849609</td>\n",
       "      <td>17769.250000</td>\n",
       "      <td>17769.250000</td>\n",
       "      <td>297400</td>\n",
       "    </tr>\n",
       "    <tr>\n",
       "      <th>2023-04-26</th>\n",
       "      <td>17767.300781</td>\n",
       "      <td>17827.750000</td>\n",
       "      <td>17711.199219</td>\n",
       "      <td>17813.599609</td>\n",
       "      <td>17813.599609</td>\n",
       "      <td>233000</td>\n",
       "    </tr>\n",
       "    <tr>\n",
       "      <th>2023-04-27</th>\n",
       "      <td>17813.099609</td>\n",
       "      <td>17931.599609</td>\n",
       "      <td>17797.900391</td>\n",
       "      <td>17915.050781</td>\n",
       "      <td>17915.050781</td>\n",
       "      <td>241400</td>\n",
       "    </tr>\n",
       "    <tr>\n",
       "      <th>2023-04-28</th>\n",
       "      <td>17950.400391</td>\n",
       "      <td>18089.150391</td>\n",
       "      <td>17885.300781</td>\n",
       "      <td>18065.000000</td>\n",
       "      <td>18065.000000</td>\n",
       "      <td>290300</td>\n",
       "    </tr>\n",
       "  </tbody>\n",
       "</table>\n",
       "<p>3268 rows × 6 columns</p>\n",
       "</div>"
      ],
      "text/plain": [
       "                    Open          High           Low         Close   \n",
       "Date                                                                 \n",
       "2010-01-04   5200.899902   5238.450195   5167.100098   5232.200195  \\\n",
       "2010-01-05   5277.149902   5288.350098   5242.399902   5277.899902   \n",
       "2010-01-06   5278.149902   5310.850098   5260.049805   5281.799805   \n",
       "2010-01-07   5281.799805   5302.549805   5244.750000   5263.100098   \n",
       "2010-01-08   5264.250000   5276.750000   5234.700195   5244.750000   \n",
       "...                  ...           ...           ...           ...   \n",
       "2023-04-24  17707.550781  17754.500000  17612.500000  17743.400391   \n",
       "2023-04-25  17761.550781  17807.449219  17716.849609  17769.250000   \n",
       "2023-04-26  17767.300781  17827.750000  17711.199219  17813.599609   \n",
       "2023-04-27  17813.099609  17931.599609  17797.900391  17915.050781   \n",
       "2023-04-28  17950.400391  18089.150391  17885.300781  18065.000000   \n",
       "\n",
       "               Adj Close  Volume  \n",
       "Date                              \n",
       "2010-01-04   5232.200195       0  \n",
       "2010-01-05   5277.899902       0  \n",
       "2010-01-06   5281.799805       0  \n",
       "2010-01-07   5263.100098       0  \n",
       "2010-01-08   5244.750000       0  \n",
       "...                  ...     ...  \n",
       "2023-04-24  17743.400391  255700  \n",
       "2023-04-25  17769.250000  297400  \n",
       "2023-04-26  17813.599609  233000  \n",
       "2023-04-27  17915.050781  241400  \n",
       "2023-04-28  18065.000000  290300  \n",
       "\n",
       "[3268 rows x 6 columns]"
      ]
     },
     "execution_count": 2,
     "metadata": {},
     "output_type": "execute_result"
    }
   ],
   "source": [
    "\n",
    "index = yf.download( \"^NSEI\", start = \"2010-01-01\",\n",
    "                           end =\"2023-05-01\")\n",
    "index"
   ]
  },
  {
   "attachments": {},
   "cell_type": "markdown",
   "metadata": {},
   "source": [
    "Calculating Volatility"
   ]
  },
  {
   "cell_type": "code",
   "execution_count": 3,
   "metadata": {},
   "outputs": [
    {
     "data": {
      "text/plain": [
       "0.14535374430629214"
      ]
     },
     "execution_count": 3,
     "metadata": {},
     "output_type": "execute_result"
    }
   ],
   "source": [
    "index['daily_returns'] =(index['Close']-index['Open'])/index['Open']\n",
    "volatility= index['daily_returns'].std() *np.sqrt(252)\n",
    "volatility"
   ]
  },
  {
   "attachments": {},
   "cell_type": "markdown",
   "metadata": {},
   "source": [
    "Calculating Cumulative returns"
   ]
  },
  {
   "cell_type": "code",
   "execution_count": 4,
   "metadata": {},
   "outputs": [
    {
     "data": {
      "text/plain": [
       "-0.9066745126480418"
      ]
     },
     "execution_count": 4,
     "metadata": {},
     "output_type": "execute_result"
    }
   ],
   "source": [
    "cumulative_returns= ( index['Close']/index['Open']).product() -1\n",
    "cumulative_returns"
   ]
  },
  {
   "attachments": {},
   "cell_type": "markdown",
   "metadata": {},
   "source": [
    "Sharpe Ratio"
   ]
  },
  {
   "cell_type": "code",
   "execution_count": 5,
   "metadata": {},
   "outputs": [
    {
     "data": {
      "text/plain": [
       "-1.4259091263706762"
      ]
     },
     "execution_count": 5,
     "metadata": {},
     "output_type": "execute_result"
    }
   ],
   "source": [
    "daily_returns=index['daily_returns']\n",
    "annual_returns= daily_returns.mean()*252\n",
    "risk_free_rate = 0.035\n",
    "annual_std_dev = daily_returns.std()*np.sqrt(252)\n",
    "sharpe_ratio=(annual_returns-risk_free_rate) / annual_std_dev\n",
    "sharpe_ratio"
   ]
  },
  {
   "attachments": {},
   "cell_type": "markdown",
   "metadata": {},
   "source": [
    "Maxdrawdown"
   ]
  },
  {
   "cell_type": "code",
   "execution_count": 6,
   "metadata": {},
   "outputs": [
    {
     "data": {
      "text/plain": [
       "-1.059949197016781"
      ]
     },
     "execution_count": 6,
     "metadata": {},
     "output_type": "execute_result"
    }
   ],
   "source": [
    "index['cumulative_rolling_max'] = (index['Close']/index['Open']).cumprod()-1\n",
    "drawdown = cumulative_returns - index['cumulative_rolling_max']\n",
    "MDD= np.min(drawdown)\n",
    "MDD"
   ]
  },
  {
   "attachments": {},
   "cell_type": "markdown",
   "metadata": {},
   "source": [
    "Sortino Ratio"
   ]
  },
  {
   "cell_type": "code",
   "execution_count": 7,
   "metadata": {},
   "outputs": [
    {
     "data": {
      "text/plain": [
       "-6.720294962305355"
      ]
     },
     "execution_count": 7,
     "metadata": {},
     "output_type": "execute_result"
    }
   ],
   "source": [
    "downside_return = np.where((index['daily_returns'])<0, index['daily_returns']-risk_free_rate, 0)\n",
    "downside_deviation = np.sqrt(np.mean(np.square(downside_return)))\n",
    "Sortino_ratio=(annual_returns-risk_free_rate)/downside_deviation\n",
    "Sortino_ratio\n"
   ]
  }
 ],
 "metadata": {
  "kernelspec": {
   "display_name": "Python 3",
   "language": "python",
   "name": "python3"
  },
  "language_info": {
   "codemirror_mode": {
    "name": "ipython",
    "version": 3
   },
   "file_extension": ".py",
   "mimetype": "text/x-python",
   "name": "python",
   "nbconvert_exporter": "python",
   "pygments_lexer": "ipython3",
   "version": "3.11.1"
  },
  "orig_nbformat": 4
 },
 "nbformat": 4,
 "nbformat_minor": 2
}
